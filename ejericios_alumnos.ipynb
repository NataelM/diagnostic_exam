{
 "cells": [
  {
   "cell_type": "markdown",
   "metadata": {},
   "source": [
    "<font color=\"Teal\" face=\"Comic Sans MS,arial\">\n",
    "  <h1 align=\"center\"><i>Ejercicios por un Punto extra 1er parcial</i></h1>\n",
    "  </font>\n",
    "  <font color=\"Black\" face=\"Comic Sans MS,arial\">\n",
    "  <h5 align=\"center\"><i>Profesor: M.en.C. Miguel Angel Pérez León</i></h5>\n",
    "  <h5 align=\"center\"><i>Ayudante: Jonathan Ramirez Montes</i></h5>\n",
    "  <h5 align=\"center\"><i>Ayudante: Jesús Iván Coss Calderón</i></h5>\n",
    "  <h5 align=\"center\"><i>Materia: Manejo de Datos</i></h5>\n",
    "  </font>"
   ]
  },
  {
   "cell_type": "markdown",
   "metadata": {
    "id": "WzpLGeqMBap-"
   },
   "source": [
    "## Wordplay\n",
    "\n",
    "Constestar los siguientes ejercicios, para ser acredores al punto extra sobre parcial:\n",
    "    - Debe entrgarse en parejas\n",
    "    - Todos los ejericicios deben estar correctos\n",
    "    - en caso de cración de funciones, comentarlas debidamente como como se mostró en clases:\n",
    "\n",
    "```python\n",
    "def nombre_funcion(arg_1:tipo_dato, arg_2:tipo_dato,...,) -> (tipo de dato de vuelta de la función):\n",
    "    '''descripción de lo que hace la función\n",
    "            - tipo de dato de entrada y valores que acxepta\n",
    "            - tipo de dato de salida y valores qeu acepta\n",
    "\n",
    "        poner un ejemplo de lo que hace la funcion\n",
    "        >>>nombre_funcion(5,3)\n",
    "        [out] 8\n",
    "    '''\n",
    "```\n",
    "\n",
    "\n",
    "- (a) All words ending in _ime_.\n",
    "- (b) How many words contain at least one of the letters _r, s, t, l, n, e_.\n",
    "- (c) The percentage of words that contain at least one of the letters _r, s, t, l, n, e_.\n",
    "- (d) All words with no vowels.\n",
    "- (e) All words that contain every vowel.\n",
    "- (f) Whether there are more _ten-letter_ words or _seven-letter_ words.\n",
    "- (g) The longest word in the list.\n",
    "- (h) All palindromes.\n",
    "- (i) All words that are words in reverse, like _rat_ and _tar_. **(skip this, it takes a long time)**\n",
    "- (j) All words that contain a _q_ that isn’t followed by a _u_.\n",
    "- (k) All words that contain _zu_ anywhere in the word.\n",
    "- (l) All words that contain both a _z_ and a _w_.\n",
    "- (m) All words whose first letter is _a_, third letter is _e_ and fifth letter is _i_.\n",
    "- (n) All two-letter words.\n",
    "- (o) All four-letter words that start and end with the same letter.\n",
    "- (p) All words that contain at least nine vowels.\n",
    "- (q) All words that contain each of the letters _a, b, c, d, e,_ and _f_ in any order. There may be other letters in the word. Two examples are backfield and feedback.\n",
    "- (r) All words whose first four and last four letters are the same.\n",
    "- (s) The word that has the most _i’s_.\n",
    "\n",
    "#### SUGERENCIA: Manejen todo con listas y para cada ejercicio no es necesario mostrar todos los elementos de las listas, basta mostrar los primeros 10  (lista[:10]) y un conteo de esa lista (len(lista)) \n",
    "\n",
    "#### NOTA: No es válido importar librerías que les \"ayuden\" con los ejercicios, lo que SÍ está permitido es usar cualquier método y/o atributo de las listas y cadenas"
   ]
  },
  {
   "cell_type": "markdown",
   "metadata": {},
   "source": [
    "## Las siguientes lineas son de apoyo para que ustedes sólo procesen los ejercicios"
   ]
  },
  {
   "cell_type": "code",
   "execution_count": 1,
   "metadata": {
    "colab": {
     "base_uri": "https://localhost:8080/",
     "height": 230
    },
    "executionInfo": {
     "elapsed": 209,
     "status": "error",
     "timestamp": 1641400402385,
     "user": {
      "displayName": "Jonathan Ramírez",
      "photoUrl": "https://lh3.googleusercontent.com/a-/AOh14GhvZRiHRf6YVTs7KC9kKQMXTTx1G8tKPeF4g7danQ=s64",
      "userId": "09469315614794190682"
     },
     "user_tz": 360
    },
    "id": "ZeswvqRsBap_",
    "outputId": "3f3c0a18-2035-49bb-9853-be4af0202d1e"
   },
   "outputs": [
    {
     "data": {
      "text/plain": [
       "'a\\naa\\naaa\\naah\\naahed\\naahing\\naahs\\naal\\naalii\\naaliis\\naals\\naam\\naani\\naardvark\\naardvarks\\naardwolf\\naardwolves'"
      ]
     },
     "execution_count": 1,
     "metadata": {},
     "output_type": "execute_result"
    }
   ],
   "source": [
    "file = open('wordsInEnglish.txt', 'r') #abrir el txt\n",
    "words = file.read() # lectura de txt y fuardado en la variable words\n",
    "file.close() # cerrar el txt\n",
    "words[:100]"
   ]
  },
  {
   "cell_type": "code",
   "execution_count": 2,
   "metadata": {
    "colab": {
     "base_uri": "https://localhost:8080/",
     "height": 174
    },
    "executionInfo": {
     "elapsed": 113,
     "status": "error",
     "timestamp": 1641400402788,
     "user": {
      "displayName": "Jonathan Ramírez",
      "photoUrl": "https://lh3.googleusercontent.com/a-/AOh14GhvZRiHRf6YVTs7KC9kKQMXTTx1G8tKPeF4g7danQ=s64",
      "userId": "09469315614794190682"
     },
     "user_tz": 360
    },
    "id": "JRqW7CrTBap_",
    "outputId": "e79b4d2e-1f9f-4cf2-d9df-bd383b2c84ae"
   },
   "outputs": [],
   "source": [
    "words = words.replace('\\n', ', ')"
   ]
  },
  {
   "cell_type": "code",
   "execution_count": 3,
   "metadata": {
    "executionInfo": {
     "elapsed": 52,
     "status": "aborted",
     "timestamp": 1641400402739,
     "user": {
      "displayName": "Jonathan Ramírez",
      "photoUrl": "https://lh3.googleusercontent.com/a-/AOh14GhvZRiHRf6YVTs7KC9kKQMXTTx1G8tKPeF4g7danQ=s64",
      "userId": "09469315614794190682"
     },
     "user_tz": 360
    },
    "id": "ioWexvwfBaqB"
   },
   "outputs": [],
   "source": [
    "words = words.split(', ')"
   ]
  },
  {
   "cell_type": "code",
   "execution_count": 4,
   "metadata": {
    "executionInfo": {
     "elapsed": 52,
     "status": "aborted",
     "timestamp": 1641400402743,
     "user": {
      "displayName": "Jonathan Ramírez",
      "photoUrl": "https://lh3.googleusercontent.com/a-/AOh14GhvZRiHRf6YVTs7KC9kKQMXTTx1G8tKPeF4g7danQ=s64",
      "userId": "09469315614794190682"
     },
     "user_tz": 360
    },
    "id": "UlcffWFKBaqB"
   },
   "outputs": [
    {
     "data": {
      "text/plain": [
       "370103"
      ]
     },
     "execution_count": 4,
     "metadata": {},
     "output_type": "execute_result"
    }
   ],
   "source": [
    "len(words)"
   ]
  },
  {
   "cell_type": "markdown",
   "metadata": {},
   "source": [
    "### Se espera ver una salida similar para cada ejercicio"
   ]
  },
  {
   "cell_type": "code",
   "execution_count": null,
   "metadata": {},
   "outputs": [],
   "source": [
    "# (a) All words ending in ime."
   ]
  },
  {
   "cell_type": "code",
   "execution_count": 5,
   "metadata": {
    "executionInfo": {
     "elapsed": 53,
     "status": "aborted",
     "timestamp": 1641400402745,
     "user": {
      "displayName": "Jonathan Ramírez",
      "photoUrl": "https://lh3.googleusercontent.com/a-/AOh14GhvZRiHRf6YVTs7KC9kKQMXTTx1G8tKPeF4g7danQ=s64",
      "userId": "09469315614794190682"
     },
     "user_tz": 360
    },
    "id": "8nN1Am2VBaqC"
   },
   "outputs": [
    {
     "data": {
      "text/plain": [
       "['abime',\n",
       " 'acetoxime',\n",
       " 'achime',\n",
       " 'aforetime',\n",
       " 'afterlifetime',\n",
       " 'aftertime',\n",
       " 'airtime',\n",
       " 'aldime',\n",
       " 'aldoxime',\n",
       " 'amidoxime']"
      ]
     },
     "execution_count": 5,
     "metadata": {},
     "output_type": "execute_result"
    }
   ],
   "source": []
  },
  {
   "cell_type": "code",
   "execution_count": null,
   "metadata": {},
   "outputs": [],
   "source": [
    "# (b) How many words contain at least one of the letters _r, s, t, l, n, e_."
   ]
  },
  {
   "cell_type": "code",
   "execution_count": 6,
   "metadata": {
    "executionInfo": {
     "elapsed": 55,
     "status": "aborted",
     "timestamp": 1641400402747,
     "user": {
      "displayName": "Jonathan Ramírez",
      "photoUrl": "https://lh3.googleusercontent.com/a-/AOh14GhvZRiHRf6YVTs7KC9kKQMXTTx1G8tKPeF4g7danQ=s64",
      "userId": "09469315614794190682"
     },
     "user_tz": 360
    },
    "id": "NNsVcH0cBaqD"
   },
   "outputs": [
    {
     "name": "stdout",
     "output_type": "stream",
     "text": [
      "There are 365593 words that contain at least \"['r', 's', 't', 'l', 'n', 'e']\".\n"
     ]
    }
   ],
   "source": []
  },
  {
   "cell_type": "code",
   "execution_count": null,
   "metadata": {},
   "outputs": [],
   "source": [
    "# (c) The percentage of words that contain at least one of the letters _r, s, t, l, n, e_."
   ]
  },
  {
   "cell_type": "code",
   "execution_count": 7,
   "metadata": {
    "executionInfo": {
     "elapsed": 56,
     "status": "aborted",
     "timestamp": 1641400402749,
     "user": {
      "displayName": "Jonathan Ramírez",
      "photoUrl": "https://lh3.googleusercontent.com/a-/AOh14GhvZRiHRf6YVTs7KC9kKQMXTTx1G8tKPeF4g7danQ=s64",
      "userId": "09469315614794190682"
     },
     "user_tz": 360
    },
    "id": "GXfX-6fcBaqE"
   },
   "outputs": [
    {
     "name": "stdout",
     "output_type": "stream",
     "text": [
      "There are 365593, these words represent 98.78% of total.\n"
     ]
    }
   ],
   "source": []
  },
  {
   "cell_type": "code",
   "execution_count": null,
   "metadata": {},
   "outputs": [],
   "source": [
    "# (d) All words with no vowels."
   ]
  },
  {
   "cell_type": "code",
   "execution_count": 8,
   "metadata": {
    "executionInfo": {
     "elapsed": 56,
     "status": "aborted",
     "timestamp": 1641400402750,
     "user": {
      "displayName": "Jonathan Ramírez",
      "photoUrl": "https://lh3.googleusercontent.com/a-/AOh14GhvZRiHRf6YVTs7KC9kKQMXTTx1G8tKPeF4g7danQ=s64",
      "userId": "09469315614794190682"
     },
     "user_tz": 360
    },
    "id": "0Em9RJ_PBaqE",
    "scrolled": true
   },
   "outputs": [
    {
     "name": "stdout",
     "output_type": "stream",
     "text": [
      "\n",
      "There are 871 words without vowels.\n"
     ]
    }
   ],
   "source": []
  },
  {
   "cell_type": "code",
   "execution_count": null,
   "metadata": {},
   "outputs": [],
   "source": [
    "# (e) All words that contain every vowel."
   ]
  },
  {
   "cell_type": "code",
   "execution_count": 9,
   "metadata": {
    "executionInfo": {
     "elapsed": 60,
     "status": "aborted",
     "timestamp": 1641400402755,
     "user": {
      "displayName": "Jonathan Ramírez",
      "photoUrl": "https://lh3.googleusercontent.com/a-/AOh14GhvZRiHRf6YVTs7KC9kKQMXTTx1G8tKPeF4g7danQ=s64",
      "userId": "09469315614794190682"
     },
     "user_tz": 360
    },
    "id": "mohBWbk9BaqF",
    "tags": []
   },
   "outputs": [
    {
     "name": "stdout",
     "output_type": "stream",
     "text": [
      "\n",
      "There are 8451 words with all vowels.\n"
     ]
    }
   ],
   "source": []
  },
  {
   "cell_type": "code",
   "execution_count": null,
   "metadata": {},
   "outputs": [],
   "source": [
    "# (f) Whether there are more ten-letter words or seven-letter words."
   ]
  },
  {
   "cell_type": "code",
   "execution_count": 10,
   "metadata": {
    "executionInfo": {
     "elapsed": 65,
     "status": "aborted",
     "timestamp": 1641400402760,
     "user": {
      "displayName": "Jonathan Ramírez",
      "photoUrl": "https://lh3.googleusercontent.com/a-/AOh14GhvZRiHRf6YVTs7KC9kKQMXTTx1G8tKPeF4g7danQ=s64",
      "userId": "09469315614794190682"
     },
     "user_tz": 360
    },
    "id": "-Qj_oZZ2BaqG"
   },
   "outputs": [
    {
     "name": "stdout",
     "output_type": "stream",
     "text": [
      "There are more words with ten-letters(45872) than seven-letters(41998).\n"
     ]
    }
   ],
   "source": []
  },
  {
   "cell_type": "code",
   "execution_count": null,
   "metadata": {},
   "outputs": [],
   "source": [
    "# (g) The longest word in the list."
   ]
  },
  {
   "cell_type": "code",
   "execution_count": 11,
   "metadata": {
    "executionInfo": {
     "elapsed": 66,
     "status": "aborted",
     "timestamp": 1641400402762,
     "user": {
      "displayName": "Jonathan Ramírez",
      "photoUrl": "https://lh3.googleusercontent.com/a-/AOh14GhvZRiHRf6YVTs7KC9kKQMXTTx1G8tKPeF4g7danQ=s64",
      "userId": "09469315614794190682"
     },
     "user_tz": 360
    },
    "id": "dZtyy6nMBaqH"
   },
   "outputs": [
    {
     "name": "stdout",
     "output_type": "stream",
     "text": [
      "The longest word in \"words\" is: \"dichlorodiphenyltrichloroethane\" with 31 letters.\n"
     ]
    }
   ],
   "source": []
  },
  {
   "cell_type": "code",
   "execution_count": null,
   "metadata": {},
   "outputs": [],
   "source": [
    "# (h) All palindromes."
   ]
  },
  {
   "cell_type": "code",
   "execution_count": 12,
   "metadata": {
    "executionInfo": {
     "elapsed": 67,
     "status": "aborted",
     "timestamp": 1641400402763,
     "user": {
      "displayName": "Jonathan Ramírez",
      "photoUrl": "https://lh3.googleusercontent.com/a-/AOh14GhvZRiHRf6YVTs7KC9kKQMXTTx1G8tKPeF4g7danQ=s64",
      "userId": "09469315614794190682"
     },
     "user_tz": 360
    },
    "id": "jj7CvRWKBaqI"
   },
   "outputs": [
    {
     "data": {
      "text/plain": [
       "['a', 'aa', 'aaa', 'aba', 'abba', 'acca', 'ada', 'adda', 'addda', 'adinida']"
      ]
     },
     "execution_count": 12,
     "metadata": {},
     "output_type": "execute_result"
    }
   ],
   "source": []
  },
  {
   "cell_type": "code",
   "execution_count": null,
   "metadata": {},
   "outputs": [],
   "source": [
    "# (j) All words that contain a \"q\" that isn’t followed by a \"u\"."
   ]
  },
  {
   "cell_type": "code",
   "execution_count": 13,
   "metadata": {
    "executionInfo": {
     "elapsed": 68,
     "status": "aborted",
     "timestamp": 1641400402766,
     "user": {
      "displayName": "Jonathan Ramírez",
      "photoUrl": "https://lh3.googleusercontent.com/a-/AOh14GhvZRiHRf6YVTs7KC9kKQMXTTx1G8tKPeF4g7danQ=s64",
      "userId": "09469315614794190682"
     },
     "user_tz": 360
    },
    "id": "TEQayTY4BaqL"
   },
   "outputs": [
    {
     "data": {
      "text/plain": [
       "(['aeq',\n",
       "  'antiq',\n",
       "  'aq',\n",
       "  'beqwete',\n",
       "  'buqsha',\n",
       "  'buqshas',\n",
       "  'colloq',\n",
       "  'cq',\n",
       "  'eq',\n",
       "  'eqpt'],\n",
       " 115)"
      ]
     },
     "execution_count": 13,
     "metadata": {},
     "output_type": "execute_result"
    }
   ],
   "source": []
  },
  {
   "cell_type": "code",
   "execution_count": null,
   "metadata": {},
   "outputs": [],
   "source": [
    "# (k) All words that contain \"zu\" anywhere in the word."
   ]
  },
  {
   "cell_type": "code",
   "execution_count": 14,
   "metadata": {
    "executionInfo": {
     "elapsed": 70,
     "status": "aborted",
     "timestamp": 1641400402768,
     "user": {
      "displayName": "Jonathan Ramírez",
      "photoUrl": "https://lh3.googleusercontent.com/a-/AOh14GhvZRiHRf6YVTs7KC9kKQMXTTx1G8tKPeF4g7danQ=s64",
      "userId": "09469315614794190682"
     },
     "user_tz": 360
    },
    "id": "Ls5L3LnTBaqL"
   },
   "outputs": [
    {
     "data": {
      "text/plain": [
       "(['aburabozu',\n",
       "  'amazulu',\n",
       "  'arzun',\n",
       "  'azulejo',\n",
       "  'azulejos',\n",
       "  'azulene',\n",
       "  'azuline',\n",
       "  'azulite',\n",
       "  'azulmic',\n",
       "  'azumbre'],\n",
       " 131)"
      ]
     },
     "execution_count": 14,
     "metadata": {},
     "output_type": "execute_result"
    }
   ],
   "source": []
  },
  {
   "cell_type": "code",
   "execution_count": null,
   "metadata": {},
   "outputs": [],
   "source": [
    "# (l) All words that contain both a \"z\" and a \"w\"."
   ]
  },
  {
   "cell_type": "code",
   "execution_count": 15,
   "metadata": {
    "executionInfo": {
     "elapsed": 71,
     "status": "aborted",
     "timestamp": 1641400402770,
     "user": {
      "displayName": "Jonathan Ramírez",
      "photoUrl": "https://lh3.googleusercontent.com/a-/AOh14GhvZRiHRf6YVTs7KC9kKQMXTTx1G8tKPeF4g7danQ=s64",
      "userId": "09469315614794190682"
     },
     "user_tz": 360
    },
    "id": "m2EaoTMJBaqN"
   },
   "outputs": [
    {
     "data": {
      "text/plain": [
       "(['arzawa',\n",
       "  'berkowitz',\n",
       "  'bewizard',\n",
       "  'blowze',\n",
       "  'blowzed',\n",
       "  'blowzy',\n",
       "  'blowzier',\n",
       "  'blowziest',\n",
       "  'blowzily',\n",
       "  'blowziness'],\n",
       " 297)"
      ]
     },
     "execution_count": 15,
     "metadata": {},
     "output_type": "execute_result"
    }
   ],
   "source": []
  },
  {
   "cell_type": "code",
   "execution_count": null,
   "metadata": {},
   "outputs": [],
   "source": [
    "# (m) All words whose first letter is \"a\", third letter is \"e\" and fifth letter is \"i\"."
   ]
  },
  {
   "cell_type": "code",
   "execution_count": 16,
   "metadata": {
    "executionInfo": {
     "elapsed": 73,
     "status": "aborted",
     "timestamp": 1641400402772,
     "user": {
      "displayName": "Jonathan Ramírez",
      "photoUrl": "https://lh3.googleusercontent.com/a-/AOh14GhvZRiHRf6YVTs7KC9kKQMXTTx1G8tKPeF4g7danQ=s64",
      "userId": "09469315614794190682"
     },
     "user_tz": 360
    },
    "id": "tK22TilXBaqO"
   },
   "outputs": [
    {
     "data": {
      "text/plain": [
       "(['abelia',\n",
       "  'abelian',\n",
       "  'abelicea',\n",
       "  'abelite',\n",
       "  'abepithymia',\n",
       "  'aberia',\n",
       "  'acedia',\n",
       "  'acediamin',\n",
       "  'acediamine',\n",
       "  'acedias'],\n",
       " 209)"
      ]
     },
     "execution_count": 16,
     "metadata": {},
     "output_type": "execute_result"
    }
   ],
   "source": []
  },
  {
   "cell_type": "code",
   "execution_count": null,
   "metadata": {},
   "outputs": [],
   "source": [
    "# (n) All two-letter words."
   ]
  },
  {
   "cell_type": "code",
   "execution_count": 17,
   "metadata": {
    "executionInfo": {
     "elapsed": 76,
     "status": "aborted",
     "timestamp": 1641400402775,
     "user": {
      "displayName": "Jonathan Ramírez",
      "photoUrl": "https://lh3.googleusercontent.com/a-/AOh14GhvZRiHRf6YVTs7KC9kKQMXTTx1G8tKPeF4g7danQ=s64",
      "userId": "09469315614794190682"
     },
     "user_tz": 360
    },
    "id": "MMn-3helBaqP"
   },
   "outputs": [
    {
     "data": {
      "text/plain": [
       "(['aa', 'ab', 'ac', 'ad', 'ae', 'af', 'ag', 'ah', 'ai', 'ay'], 427)"
      ]
     },
     "execution_count": 17,
     "metadata": {},
     "output_type": "execute_result"
    }
   ],
   "source": []
  },
  {
   "cell_type": "code",
   "execution_count": null,
   "metadata": {},
   "outputs": [],
   "source": [
    "# (o) All four-letter words that start and end with the same letter."
   ]
  },
  {
   "cell_type": "code",
   "execution_count": 18,
   "metadata": {
    "executionInfo": {
     "elapsed": 80,
     "status": "aborted",
     "timestamp": 1641400402779,
     "user": {
      "displayName": "Jonathan Ramírez",
      "photoUrl": "https://lh3.googleusercontent.com/a-/AOh14GhvZRiHRf6YVTs7KC9kKQMXTTx1G8tKPeF4g7danQ=s64",
      "userId": "09469315614794190682"
     },
     "user_tz": 360
    },
    "id": "GEZYhRpxBaqQ"
   },
   "outputs": [
    {
     "data": {
      "text/plain": [
       "(['abba',\n",
       "  'acca',\n",
       "  'acta',\n",
       "  'adda',\n",
       "  'affa',\n",
       "  'agba',\n",
       "  'agha',\n",
       "  'agla',\n",
       "  'agma',\n",
       "  'agra'],\n",
       " 316)"
      ]
     },
     "execution_count": 18,
     "metadata": {},
     "output_type": "execute_result"
    }
   ],
   "source": []
  },
  {
   "cell_type": "code",
   "execution_count": null,
   "metadata": {},
   "outputs": [],
   "source": [
    "# (p) All words that contain at least nine vowels."
   ]
  },
  {
   "cell_type": "code",
   "execution_count": 19,
   "metadata": {
    "executionInfo": {
     "elapsed": 82,
     "status": "aborted",
     "timestamp": 1641400402782,
     "user": {
      "displayName": "Jonathan Ramírez",
      "photoUrl": "https://lh3.googleusercontent.com/a-/AOh14GhvZRiHRf6YVTs7KC9kKQMXTTx1G8tKPeF4g7danQ=s64",
      "userId": "09469315614794190682"
     },
     "user_tz": 360
    },
    "id": "b2fwTdC0BaqR"
   },
   "outputs": [
    {
     "data": {
      "text/plain": [
       "(['aceanthrenequinone',\n",
       "  'acetoacetanilide',\n",
       "  'achromobacterieae',\n",
       "  'adenocarcinomatous',\n",
       "  'adenoliomyofibroma',\n",
       "  'adiadochokinesia',\n",
       "  'adiadokokinesia',\n",
       "  'adrenocorticosteroid',\n",
       "  'aecioteliospore',\n",
       "  'aerobacteriological'],\n",
       " 594)"
      ]
     },
     "execution_count": 19,
     "metadata": {},
     "output_type": "execute_result"
    }
   ],
   "source": []
  },
  {
   "cell_type": "code",
   "execution_count": null,
   "metadata": {},
   "outputs": [],
   "source": [
    "# (q) All words that contain each of the letters _a, b, c, d, e,_ and _f_ in any order."
   ]
  },
  {
   "cell_type": "code",
   "execution_count": 20,
   "metadata": {
    "executionInfo": {
     "elapsed": 83,
     "status": "aborted",
     "timestamp": 1641400402783,
     "user": {
      "displayName": "Jonathan Ramírez",
      "photoUrl": "https://lh3.googleusercontent.com/a-/AOh14GhvZRiHRf6YVTs7KC9kKQMXTTx1G8tKPeF4g7danQ=s64",
      "userId": "09469315614794190682"
     },
     "user_tz": 360
    },
    "id": "V2KbVka6BaqR"
   },
   "outputs": [
    {
     "data": {
      "text/plain": [
       "(['acidifiable',\n",
       "  'backfield',\n",
       "  'backfields',\n",
       "  'backfilled',\n",
       "  'backfired',\n",
       "  'backfriend',\n",
       "  'baldfaced',\n",
       "  'barefaced',\n",
       "  'barefacedly',\n",
       "  'barefacedness'],\n",
       " 66)"
      ]
     },
     "execution_count": 20,
     "metadata": {},
     "output_type": "execute_result"
    }
   ],
   "source": []
  },
  {
   "cell_type": "code",
   "execution_count": null,
   "metadata": {},
   "outputs": [],
   "source": [
    "# (r) All words whose first four and last four letters are the same."
   ]
  },
  {
   "cell_type": "code",
   "execution_count": 21,
   "metadata": {
    "executionInfo": {
     "elapsed": 84,
     "status": "aborted",
     "timestamp": 1641400402785,
     "user": {
      "displayName": "Jonathan Ramírez",
      "photoUrl": "https://lh3.googleusercontent.com/a-/AOh14GhvZRiHRf6YVTs7KC9kKQMXTTx1G8tKPeF4g7danQ=s64",
      "userId": "09469315614794190682"
     },
     "user_tz": 360
    },
    "id": "8CQHZ8zKBaqS"
   },
   "outputs": [
    {
     "data": {
      "text/plain": [
       "(['aahs',\n",
       "  'aals',\n",
       "  'aani',\n",
       "  'aaru',\n",
       "  'abac',\n",
       "  'abaca',\n",
       "  'abada',\n",
       "  'abay',\n",
       "  'abaka',\n",
       "  'abama'],\n",
       " 8469)"
      ]
     },
     "execution_count": 21,
     "metadata": {},
     "output_type": "execute_result"
    }
   ],
   "source": []
  },
  {
   "cell_type": "code",
   "execution_count": null,
   "metadata": {},
   "outputs": [],
   "source": [
    "# (s) The word that has the most 'i’s'."
   ]
  },
  {
   "cell_type": "code",
   "execution_count": 22,
   "metadata": {
    "executionInfo": {
     "elapsed": 735,
     "status": "aborted",
     "timestamp": 1641400403436,
     "user": {
      "displayName": "Jonathan Ramírez",
      "photoUrl": "https://lh3.googleusercontent.com/a-/AOh14GhvZRiHRf6YVTs7KC9kKQMXTTx1G8tKPeF4g7danQ=s64",
      "userId": "09469315614794190682"
     },
     "user_tz": 360
    },
    "id": "d7Pmh-lBBaqT"
   },
   "outputs": [
    {
     "data": {
      "text/plain": [
       "[(6, 'pericardiomediastinitis'),\n",
       " (6, 'minimifidianism'),\n",
       " (6, 'intelligibilities'),\n",
       " (6, 'indivisibility'),\n",
       " (6, 'indistinguishability'),\n",
       " (6, 'impossibilification'),\n",
       " (6, 'divisibilities')]"
      ]
     },
     "execution_count": 22,
     "metadata": {},
     "output_type": "execute_result"
    }
   ],
   "source": []
  }
 ],
 "metadata": {
  "accelerator": "GPU",
  "colab": {
   "name": "Exam of the first module Calificado.ipynb",
   "provenance": []
  },
  "kernelspec": {
   "display_name": "Python 3.8.13 ('base')",
   "language": "python",
   "name": "python3"
  },
  "language_info": {
   "codemirror_mode": {
    "name": "ipython",
    "version": 3
   },
   "file_extension": ".py",
   "mimetype": "text/x-python",
   "name": "python",
   "nbconvert_exporter": "python",
   "pygments_lexer": "ipython3",
   "version": "3.8.13"
  },
  "toc": {
   "base_numbering": 1,
   "nav_menu": {},
   "number_sections": true,
   "sideBar": true,
   "skip_h1_title": false,
   "title_cell": "Table of Contents",
   "title_sidebar": "Contents",
   "toc_cell": false,
   "toc_position": {},
   "toc_section_display": true,
   "toc_window_display": false
  },
  "varInspector": {
   "cols": {
    "lenName": 16,
    "lenType": 16,
    "lenVar": 40
   },
   "kernels_config": {
    "python": {
     "delete_cmd_postfix": "",
     "delete_cmd_prefix": "del ",
     "library": "var_list.py",
     "varRefreshCmd": "print(var_dic_list())"
    },
    "r": {
     "delete_cmd_postfix": ") ",
     "delete_cmd_prefix": "rm(",
     "library": "var_list.r",
     "varRefreshCmd": "cat(var_dic_list()) "
    }
   },
   "types_to_exclude": [
    "module",
    "function",
    "builtin_function_or_method",
    "instance",
    "_Feature"
   ],
   "window_display": false
  },
  "vscode": {
   "interpreter": {
    "hash": "0a68ab044c6ea367198d7b58f0f8352272d5267d2d2c131306c104f6e9ede3d6"
   }
  }
 },
 "nbformat": 4,
 "nbformat_minor": 4
}
