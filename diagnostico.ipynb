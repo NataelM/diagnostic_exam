{
 "cells": [
  {
   "cell_type": "markdown",
   "metadata": {
    "id": "AcayMjOVBaoZ"
   },
   "source": [
    "# Theory"
   ]
  },
  {
   "cell_type": "markdown",
   "metadata": {
    "id": "fVDSlAXqBaof"
   },
   "source": [
    "State the differences between `for` and `while` loops"
   ]
  },
  {
   "cell_type": "markdown",
   "metadata": {
    "id": "dS3ygrUqBaoi"
   },
   "source": [
    "    When you use a `for` loop is because you have an iterable besides the for loop is a finite loop. In the other hand `while` loop could be infinite loop if the condition is not met. When you use a `while` loop you have to initialize a variable that we called *flag* and very important you have to update the flag when the condition while is `true`. "
   ]
  },
  {
   "cell_type": "markdown",
   "metadata": {
    "id": "pUKnlB-gBaor"
   },
   "source": [
    "What is _data casting_?"
   ]
  },
  {
   "cell_type": "markdown",
   "metadata": {
    "id": "PBNEewclBaou"
   },
   "source": [
    "    As we know python is a orientable objects lenguage and count with different data types. In Python you can cnvert the data type in other data type for example"
   ]
  },
  {
   "cell_type": "code",
   "execution_count": 1,
   "metadata": {
    "id": "PRrfa_fABaox"
   },
   "outputs": [],
   "source": [
    "string = 'Jonathan' "
   ]
  },
  {
   "cell_type": "code",
   "execution_count": 2,
   "metadata": {
    "id": "F4tpEDgSBaoz",
    "outputId": "4ec64820-e5af-4a93-a814-27fa8cbd7956"
   },
   "outputs": [
    {
     "data": {
      "text/plain": [
       "str"
      ]
     },
     "execution_count": 2,
     "metadata": {},
     "output_type": "execute_result"
    }
   ],
   "source": [
    "type(string)"
   ]
  },
  {
   "cell_type": "code",
   "execution_count": 3,
   "metadata": {
    "id": "hBGnP3QqBao3",
    "outputId": "72538a6f-10d3-462e-99a2-e93e7637921d"
   },
   "outputs": [
    {
     "data": {
      "text/plain": [
       "['J', 'o', 'n', 'a', 't', 'h', 'a', 'n']"
      ]
     },
     "execution_count": 3,
     "metadata": {},
     "output_type": "execute_result"
    }
   ],
   "source": [
    "list(string)"
   ]
  },
  {
   "cell_type": "code",
   "execution_count": 4,
   "metadata": {
    "id": "EPAjxZl1Bao6"
   },
   "outputs": [],
   "source": [
    "list_name = list(string)"
   ]
  },
  {
   "cell_type": "code",
   "execution_count": 5,
   "metadata": {
    "id": "z66FIlhyBao7",
    "outputId": "9a6f906c-5b16-4607-ef2c-3062a2d6a975"
   },
   "outputs": [
    {
     "data": {
      "text/plain": [
       "list"
      ]
     },
     "execution_count": 5,
     "metadata": {},
     "output_type": "execute_result"
    }
   ],
   "source": [
    "type(list_name)"
   ]
  },
  {
   "cell_type": "markdown",
   "metadata": {
    "id": "us_8u7WDBapB"
   },
   "source": [
    "What is a _wrapper_ function? Give examples"
   ]
  },
  {
   "cell_type": "markdown",
   "metadata": {
    "id": "JfV35UhvBapD"
   },
   "source": [
    "A *wrapper function* is when you envolve a type object in another bigger."
   ]
  },
  {
   "cell_type": "code",
   "execution_count": 6,
   "metadata": {
    "id": "fUC5J2teBapK"
   },
   "outputs": [
    {
     "name": "stdout",
     "output_type": "stream",
     "text": [
      "<class 'int'>\n",
      "<class 'float'>\n"
     ]
    }
   ],
   "source": [
    "a = 6\n",
    "print(type(a))\n",
    "\n",
    "#wrappiing\n",
    "b = float(a)\n",
    "print(type(b))"
   ]
  },
  {
   "cell_type": "markdown",
   "metadata": {
    "id": "PusYJm3NBapN"
   },
   "source": [
    "Mention the similarities and differences between the `str` and `list` data types"
   ]
  },
  {
   "cell_type": "markdown",
   "metadata": {
    "id": "p-aJ85FOBapN"
   },
   "source": [
    "* **Similarities**\n",
    "     - Be iterables.\n",
    "     - Can access to its elements via `[]`.\n",
    "     - Can operates +, * (print \\*n times ).\n",
    "     - Can data.\n",
    "     - Compute the `max` or `min`.\n",
    "         - In `str` `max` is the last letter according alphabet and `min` is first one.\n",
    "     - Can to know the length \n",
    "* **Differences**\n",
    "    - List are mutable i.e you can change the elements in a list\n",
    "    - List can be sorted"
   ]
  },
  {
   "cell_type": "markdown",
   "metadata": {
    "id": "lk50yNpZBapO"
   },
   "source": [
    "Mention 5 _libraries / modules_ that extend Python functionality"
   ]
  },
  {
   "cell_type": "markdown",
   "metadata": {
    "id": "klcod3_uBapQ"
   },
   "source": [
    "* Math\n",
    "    - This module has a set of methods and constants mathematics.\n",
    "* Numpy:\n",
    "    - Provides tools to help build multi-dimensional arrays and perform calculations on the data stored in them. You can solve algebraic formulas, perform common statistical operations, and much more.\n",
    "* Pandas:\n",
    "    - Helps you manipulate and analyze large sets of data without having to learn a specialized data-processing language like R.\n",
    "* SciPy:\n",
    "    - offers modules for linear algebra, image optimization, integration interpolation, special functions, Fast Fourier transform, signal and image processing, Ordinary Differential Equation (ODE) solving, and other computational tasks in science and analytics.\n",
    "* Scikit-learn \n",
    "    - Has a wide range of supervised and unsupervised learning algorithms that works on a consistent interface in Python. The library can also be used for data-mining and data analysis. The main machine learning functions that the Scikit-learn library can handle are classification, regression, clustering, dimensionality reduction, model selection, and preprocessing."
   ]
  },
  {
   "cell_type": "markdown",
   "metadata": {
    "id": "nnzpoC-fBapT"
   },
   "source": [
    "What is _aliasing_? Give an example"
   ]
  },
  {
   "cell_type": "markdown",
   "metadata": {
    "id": "1vp4WxK0BapU"
   },
   "source": [
    "An alias is a second asignation name to identify values (libraries mainly)."
   ]
  },
  {
   "cell_type": "markdown",
   "metadata": {
    "id": "BhaCHhkpBapU",
    "outputId": "a7f62a76-8df9-42d6-f538-398403f981ce"
   },
   "source": [
    "```python\n",
    "import numpy as np\n",
    "           |aliasing|\n",
    "```"
   ]
  },
  {
   "cell_type": "markdown",
   "metadata": {
    "id": "URxdm8a5BapY"
   },
   "source": [
    "- Can I have functions with more than one `return`?\n"
   ]
  },
  {
   "cell_type": "markdown",
   "metadata": {
    "id": "ZVqQie1EBapZ"
   },
   "source": [
    "    Yes, you can, but these returns must be in different lines. Using more than one return in a code might be usefull if you use `if`conditions."
   ]
  },
  {
   "cell_type": "markdown",
   "metadata": {
    "id": "-cTngrdnBapa"
   },
   "source": [
    "- Can I have functions without `return`?"
   ]
  },
  {
   "cell_type": "markdown",
   "metadata": {
    "id": "ttLLTVATBapb"
   },
   "source": [
    "    Yes, you can too. If you don't use return in a function is because this function will work like a method to other functions."
   ]
  },
  {
   "cell_type": "markdown",
   "metadata": {
    "id": "9m3smKSUBapd"
   },
   "source": [
    "Can I assign functions that have no `return` value to a variable?"
   ]
  },
  {
   "cell_type": "markdown",
   "metadata": {
    "id": "Zqc1G3aXBapd"
   },
   "source": [
    "    Yes, you can, although this actions maybe is useless"
   ]
  },
  {
   "cell_type": "code",
   "execution_count": 7,
   "metadata": {
    "id": "axZcegQzBapf",
    "outputId": "a040a8b1-f797-430d-873b-1e86b15c4b27"
   },
   "outputs": [
    {
     "name": "stdout",
     "output_type": "stream",
     "text": [
      "c\n"
     ]
    }
   ],
   "source": [
    "x = print(\"c\")"
   ]
  },
  {
   "cell_type": "code",
   "execution_count": 8,
   "metadata": {
    "id": "5ng77KAWBapg",
    "outputId": "9a057997-aab7-4b4b-e25d-6d5a4028c716"
   },
   "outputs": [
    {
     "data": {
      "text/plain": [
       "NoneType"
      ]
     },
     "execution_count": 8,
     "metadata": {},
     "output_type": "execute_result"
    }
   ],
   "source": [
    "type(x)"
   ]
  },
  {
   "cell_type": "markdown",
   "metadata": {
    "id": "fu61cnWoBapj"
   },
   "source": [
    "What elements should the _documentation_ contain?"
   ]
  },
  {
   "cell_type": "markdown",
   "metadata": {
    "id": "KkZm1KdHBapj"
   },
   "source": [
    "    The documentation should contain Tittles, subtitles, introduction, footnotes, capitalizations, code examples, sections.\n",
    "    When you documentation functions in pyhton, you should write what does the function, what data types receives and write a short example to usser."
   ]
  },
  {
   "cell_type": "markdown",
   "metadata": {
    "id": "pPU3d81FBapk"
   },
   "source": [
    "Imagine that you have an object called _toto_.\n",
    "- How would you access its _f1_ method that receives two parameters?"
   ]
  },
  {
   "cell_type": "markdown",
   "metadata": {
    "id": "jKQRyPscBapl"
   },
   "source": [
    "``` python\n",
    "toto.f1(parameter_1, parameter_2)\n",
    "```"
   ]
  },
  {
   "cell_type": "markdown",
   "metadata": {
    "id": "iVGudaIfBapm"
   },
   "source": [
    "- How do yoou acces to its _momo_ attribute?"
   ]
  },
  {
   "cell_type": "markdown",
   "metadata": {
    "id": "zPhQe-deBapo"
   },
   "source": [
    "```python\n",
    "toto.momo\n",
    "```"
   ]
  },
  {
   "cell_type": "markdown",
   "metadata": {
    "id": "0ZQFRVZfBapp"
   },
   "source": [
    "- How could you see all the methods and attributes of _toto_?"
   ]
  },
  {
   "cell_type": "markdown",
   "metadata": {
    "id": "_FeIZFmnBapq"
   },
   "source": [
    "```python\n",
    "for met_and_atr in dir(toto):\n",
    "        print(met_and_atr)\n",
    "```        "
   ]
  },
  {
   "cell_type": "markdown",
   "metadata": {
    "id": "DFc0BNxhBapu"
   },
   "source": [
    "# Practical Exam\n",
    "\n",
    "All exam code must be commented, functions must be documented and the user interface and display must be CLEAN, CLEAR, and CONCISE.\n",
    "\n",
    "- [Fibonacci Secuence](#Fibonacci-Secuence)\n",
    "- [Wordplay](#Wordplay)"
   ]
  },
  {
   "cell_type": "markdown",
   "metadata": {
    "id": "65dtBkVSBapw"
   },
   "source": [
    "## Fibonacci Secuence (1 point)\n",
    "\n",
    "In mathematics, the Fibonacci numbers, commonly denoted $F_n$, are the numbers form the Fibonacci sequence. This secuence is such that each number is the sum of the two preceding ones, starting from 0 and 1. That is, the n-th number of the Fibonacci sequence is:\n",
    "\n",
    "<br/>\n",
    "\n",
    "\n",
    "$$\n",
    "F_n = \n",
    "\\left\\{\n",
    "\\begin{array}{lcc}\n",
    "0 & \\text{if} & n = 0\\\\\n",
    "1 & \\text{if} & n = 1\\\\\n",
    "F_{n-1} + F_{n-2} & \\text{if} & n > 1\\\\\n",
    "\\end{array}\n",
    "\\right.\n",
    "$$\n",
    "\n",
    "<br/>\n",
    "\n",
    "- Write a function called `fibonacci` that is given an integer $n \\ge 0$ and returns the n-th number of the Fibonacci secuence.\n",
    "- Write a function called `fibonacciUpTo` that is given an integer $num > 0$ and returns a list with all Fibonacci numbers up to and strictly lower than $num$."
   ]
  },
  {
   "cell_type": "markdown",
   "metadata": {
    "id": "k3oUj3fMBapx"
   },
   "source": [
    "- Write a function called `fibonacci` that is given an integer $n \\ge 0$ and returns the n-th number of the Fibonacci secuence."
   ]
  },
  {
   "cell_type": "code",
   "execution_count": 9,
   "metadata": {
    "colab": {
     "base_uri": "https://localhost:8080/"
    },
    "executionInfo": {
     "elapsed": 14367,
     "status": "ok",
     "timestamp": 1641399716187,
     "user": {
      "displayName": "Jonathan Ramírez",
      "photoUrl": "https://lh3.googleusercontent.com/a-/AOh14GhvZRiHRf6YVTs7KC9kKQMXTTx1G8tKPeF4g7danQ=s64",
      "userId": "09469315614794190682"
     },
     "user_tz": 360
    },
    "id": "wGGAaXlbBapy",
    "outputId": "b9d1da7a-9519-46f7-adb6-8d3e62581222"
   },
   "outputs": [
    {
     "name": "stdin",
     "output_type": "stream",
     "text": [
      "Enter the n-th number of the Fibonacci secuence desire:  10\n"
     ]
    },
    {
     "data": {
      "text/plain": [
       "34"
      ]
     },
     "execution_count": 9,
     "metadata": {},
     "output_type": "execute_result"
    }
   ],
   "source": [
    "num = int(input('Enter the n-th number of the Fibonacci secuence desire: '))\n",
    "#To can return the n-th number of the Fibonacci secuence I needed substract 1\n",
    "number = num - 1\n",
    "\n",
    "def fibonacci(number):\n",
    "    '''This functions returns the n+1-th\n",
    "    number of the Fibonacci sequence.\n",
    "    \n",
    "    Fibonacci sequence:\n",
    "    [0, 1, 1, 2, 3, 5, 8, 13, 21, 34, 55, 89, 144,...]\n",
    "    \n",
    "    >>>fibonacci(8)\n",
    "    21\n",
    "    '''\n",
    "    if number == 0:\n",
    "        return 0\n",
    "    elif number == 1:\n",
    "        return 1\n",
    "    else: \n",
    "        return fibonacci(number-1) + fibonacci(number-2)\n",
    "    \n",
    "fibonacci(number)"
   ]
  },
  {
   "cell_type": "markdown",
   "metadata": {
    "id": "WzpLGeqMBap-"
   },
   "source": [
    "## Wordplay\n",
    "\n",
    "Wordplay – Use the file **_wordsInEnglish.txt_** for this problem. Find the following:\n",
    "\n",
    "- (a) All words ending in _ime_.\n",
    "- (b) How many words contain at least one of the letters _r, s, t, l, n, e_.\n",
    "- (c) The percentage of words that contain at least one of the letters _r, s, t, l, n, e_.\n",
    "- (d) All words with no vowels.\n",
    "- (e) All words that contain every vowel.\n",
    "- (f) Whether there are more _ten-letter_ words or _seven-letter_ words.\n",
    "- (g) The longest word in the list.\n",
    "- (h) All palindromes.\n",
    "- (i) All words that are words in reverse, like _rat_ and _tar_. **(skip this, it takes a long time)**\n",
    "- (j) All words that contain a _q_ that isn’t followed by a _u_.\n",
    "- (k) All words that contain _zu_ anywhere in the word.\n",
    "- (l) All words that contain both a _z_ and a _w_.\n",
    "- (m) All words whose first letter is _a_, third letter is _e_ and fifth letter is _i_.\n",
    "- (n) All two-letter words.\n",
    "- (o) All four-letter words that start and end with the same letter.\n",
    "- (p) All words that contain at least nine vowels.\n",
    "- (q) All words that contain each of the letters _a, b, c, d, e,_ and _f_ in any order. There may be other letters in the word. Two examples are backfield and feedback.\n",
    "- (r) All words whose first four and last four letters are the same.\n",
    "- (s) The word that has the most _i’s_.\n",
    "\n",
    "**Advanced**\n",
    "\n",
    "- (t) All words that contain double letters next to each other like _aardvark_ or _book_, excluding words that end in _lly_.\n",
    "- (u) All words that contain _ab_ in multiple places, like _habitable_.\n",
    "- (v) All words with four or more vowels in a row.\n",
    "- (w) All words of the form _abcd*dcba_, where _*_ is arbitrarily long sequence of letters.\n",
    "- (x) All groups of 5 words, like _pat pet pit pot put_, where each word is 3 letters, all words share the same first and last letters, and the middle letter runs through all 5 vowels."
   ]
  },
  {
   "cell_type": "markdown",
   "metadata": {},
   "source": [
    "This cells help to student to get the appropriate data type for these exercises"
   ]
  },
  {
   "cell_type": "code",
   "execution_count": 10,
   "metadata": {
    "colab": {
     "base_uri": "https://localhost:8080/",
     "height": 230
    },
    "executionInfo": {
     "elapsed": 209,
     "status": "error",
     "timestamp": 1641400402385,
     "user": {
      "displayName": "Jonathan Ramírez",
      "photoUrl": "https://lh3.googleusercontent.com/a-/AOh14GhvZRiHRf6YVTs7KC9kKQMXTTx1G8tKPeF4g7danQ=s64",
      "userId": "09469315614794190682"
     },
     "user_tz": 360
    },
    "id": "ZeswvqRsBap_",
    "outputId": "3f3c0a18-2035-49bb-9853-be4af0202d1e"
   },
   "outputs": [
    {
     "data": {
      "text/plain": [
       "'a\\naa\\naaa\\naah\\naahed\\naahing\\naahs\\naal\\naalii\\naaliis\\naals\\naam\\naani\\naardvark\\naardvarks\\naardwolf\\naardwolves'"
      ]
     },
     "execution_count": 10,
     "metadata": {},
     "output_type": "execute_result"
    }
   ],
   "source": [
    "file = open('wordsInEnglish.txt', 'r')\n",
    "words = file.read()\n",
    "file.close()\n",
    "words[:100]"
   ]
  },
  {
   "cell_type": "code",
   "execution_count": 11,
   "metadata": {
    "colab": {
     "base_uri": "https://localhost:8080/",
     "height": 174
    },
    "executionInfo": {
     "elapsed": 113,
     "status": "error",
     "timestamp": 1641400402788,
     "user": {
      "displayName": "Jonathan Ramírez",
      "photoUrl": "https://lh3.googleusercontent.com/a-/AOh14GhvZRiHRf6YVTs7KC9kKQMXTTx1G8tKPeF4g7danQ=s64",
      "userId": "09469315614794190682"
     },
     "user_tz": 360
    },
    "id": "JRqW7CrTBap_",
    "outputId": "e79b4d2e-1f9f-4cf2-d9df-bd383b2c84ae"
   },
   "outputs": [],
   "source": [
    "words = words.replace('\\n', ', ')"
   ]
  },
  {
   "cell_type": "code",
   "execution_count": 12,
   "metadata": {
    "executionInfo": {
     "elapsed": 52,
     "status": "aborted",
     "timestamp": 1641400402739,
     "user": {
      "displayName": "Jonathan Ramírez",
      "photoUrl": "https://lh3.googleusercontent.com/a-/AOh14GhvZRiHRf6YVTs7KC9kKQMXTTx1G8tKPeF4g7danQ=s64",
      "userId": "09469315614794190682"
     },
     "user_tz": 360
    },
    "id": "ioWexvwfBaqB"
   },
   "outputs": [],
   "source": [
    "words = words.split(', ')"
   ]
  },
  {
   "cell_type": "code",
   "execution_count": 13,
   "metadata": {
    "executionInfo": {
     "elapsed": 52,
     "status": "aborted",
     "timestamp": 1641400402743,
     "user": {
      "displayName": "Jonathan Ramírez",
      "photoUrl": "https://lh3.googleusercontent.com/a-/AOh14GhvZRiHRf6YVTs7KC9kKQMXTTx1G8tKPeF4g7danQ=s64",
      "userId": "09469315614794190682"
     },
     "user_tz": 360
    },
    "id": "UlcffWFKBaqB"
   },
   "outputs": [
    {
     "data": {
      "text/plain": [
       "370103"
      ]
     },
     "execution_count": 13,
     "metadata": {},
     "output_type": "execute_result"
    }
   ],
   "source": [
    "len(words)"
   ]
  },
  {
   "cell_type": "markdown",
   "metadata": {},
   "source": [
    "### Exercises solved"
   ]
  },
  {
   "cell_type": "code",
   "execution_count": 14,
   "metadata": {
    "executionInfo": {
     "elapsed": 53,
     "status": "aborted",
     "timestamp": 1641400402745,
     "user": {
      "displayName": "Jonathan Ramírez",
      "photoUrl": "https://lh3.googleusercontent.com/a-/AOh14GhvZRiHRf6YVTs7KC9kKQMXTTx1G8tKPeF4g7danQ=s64",
      "userId": "09469315614794190682"
     },
     "user_tz": 360
    },
    "id": "8nN1Am2VBaqC"
   },
   "outputs": [
    {
     "name": "stdout",
     "output_type": "stream",
     "text": [
      "There are 188 words that end in \"ime\".\n",
      "\n",
      "\"ime's\" words are 0.051% of total words.\n"
     ]
    },
    {
     "data": {
      "text/plain": [
       "['abime',\n",
       " 'acetoxime',\n",
       " 'achime',\n",
       " 'aforetime',\n",
       " 'afterlifetime',\n",
       " 'aftertime',\n",
       " 'airtime',\n",
       " 'aldime',\n",
       " 'aldoxime',\n",
       " 'amidoxime']"
      ]
     },
     "execution_count": 14,
     "metadata": {},
     "output_type": "execute_result"
    }
   ],
   "source": [
    "# (a) All words ending in ime.\n",
    "end_ime = []\n",
    "count_ime = 0\n",
    "for i in range(len(words)):\n",
    "    if words[i].endswith('ime') == True:\n",
    "        end_ime.append(words[i])\n",
    "        count_ime += 1\n",
    "\n",
    "percentage = round((count_ime/len(words)) * 100, 3)        \n",
    "print('There are {} words that end in \"ime\".'.format(count_ime))\n",
    "print('\\n\"ime\\'s\" words are {}% of total words.'.format(percentage))\n",
    "end_ime[:10]"
   ]
  },
  {
   "cell_type": "code",
   "execution_count": 15,
   "metadata": {
    "executionInfo": {
     "elapsed": 55,
     "status": "aborted",
     "timestamp": 1641400402747,
     "user": {
      "displayName": "Jonathan Ramírez",
      "photoUrl": "https://lh3.googleusercontent.com/a-/AOh14GhvZRiHRf6YVTs7KC9kKQMXTTx1G8tKPeF4g7danQ=s64",
      "userId": "09469315614794190682"
     },
     "user_tz": 360
    },
    "id": "NNsVcH0cBaqD"
   },
   "outputs": [
    {
     "name": "stdout",
     "output_type": "stream",
     "text": [
      "There are 365593 words that contain at least \"['r', 's', 't', 'l', 'n', 'e']\".\n"
     ]
    }
   ],
   "source": [
    "# (b) How many words contain at least one of the letters _r, s, t, l, n, e_.\n",
    "counter = 0\n",
    "letters = ['r', 's', 't', 'l', 'n', 'e']\n",
    "for i in range(len(words)):\n",
    "    for j in range(len(letters)):\n",
    "        if (letters[j] in words[i]) == True:\n",
    "            counter += 1\n",
    "            break\n",
    "            \n",
    "print('There are {} words that contain at least \"{}\".'.format(counter, letters))"
   ]
  },
  {
   "cell_type": "code",
   "execution_count": 16,
   "metadata": {
    "executionInfo": {
     "elapsed": 56,
     "status": "aborted",
     "timestamp": 1641400402749,
     "user": {
      "displayName": "Jonathan Ramírez",
      "photoUrl": "https://lh3.googleusercontent.com/a-/AOh14GhvZRiHRf6YVTs7KC9kKQMXTTx1G8tKPeF4g7danQ=s64",
      "userId": "09469315614794190682"
     },
     "user_tz": 360
    },
    "id": "GXfX-6fcBaqE"
   },
   "outputs": [
    {
     "name": "stdout",
     "output_type": "stream",
     "text": [
      "There are 365593, these words represent 98.78% of total.\n"
     ]
    }
   ],
   "source": [
    "# (c) The percentage of words that contain at least one of the letters _r, s, t, l, n, e_.\n",
    "percentage_1 = round((counter/len(words)) * 100, 2) \n",
    "print('There are {}, these words represent {}% of total.'.format(counter, percentage_1))"
   ]
  },
  {
   "cell_type": "code",
   "execution_count": 17,
   "metadata": {
    "executionInfo": {
     "elapsed": 56,
     "status": "aborted",
     "timestamp": 1641400402750,
     "user": {
      "displayName": "Jonathan Ramírez",
      "photoUrl": "https://lh3.googleusercontent.com/a-/AOh14GhvZRiHRf6YVTs7KC9kKQMXTTx1G8tKPeF4g7danQ=s64",
      "userId": "09469315614794190682"
     },
     "user_tz": 360
    },
    "id": "0Em9RJ_PBaqE",
    "scrolled": true
   },
   "outputs": [
    {
     "name": "stdout",
     "output_type": "stream",
     "text": [
      "\n",
      "There are 871 words without vowels.\n"
     ]
    }
   ],
   "source": [
    "# (d) All words with no vowels.\n",
    "def count_vowels(word):\n",
    "    '''This function count the number \n",
    "    of vowels in a word. It reveives a string \n",
    "    as parameter. Retunrs the number of vowels in\n",
    "    a word.\n",
    "    \n",
    "    >>>count_vowels('jonathan')\n",
    "    3\n",
    "    '''\n",
    "    vowels_1 = 'aeiou'\n",
    "    vowels_word = []\n",
    "    for vowel in word:\n",
    "        if (vowel in vowels_1):\n",
    "            vowels_word.append(vowel)\n",
    "    long = len(vowels_word)\n",
    "    return long \n",
    "\n",
    "without_vowels = 0\n",
    "for d in range(len(words)):\n",
    "    if count_vowels(words[d]) == 0:\n",
    "        #print(words[d])\n",
    "        without_vowels += 1\n",
    "        \n",
    "print('\\nThere are {} words without vowels.'.format(without_vowels))"
   ]
  },
  {
   "cell_type": "code",
   "execution_count": 18,
   "metadata": {
    "executionInfo": {
     "elapsed": 60,
     "status": "aborted",
     "timestamp": 1641400402755,
     "user": {
      "displayName": "Jonathan Ramírez",
      "photoUrl": "https://lh3.googleusercontent.com/a-/AOh14GhvZRiHRf6YVTs7KC9kKQMXTTx1G8tKPeF4g7danQ=s64",
      "userId": "09469315614794190682"
     },
     "user_tz": 360
    },
    "id": "mohBWbk9BaqF",
    "tags": []
   },
   "outputs": [
    {
     "name": "stdout",
     "output_type": "stream",
     "text": [
      "\n",
      "There are 8451 words with all vowels.\n"
     ]
    }
   ],
   "source": [
    "# (e) All words that contain every vowel.\n",
    "def unique_l(listx): #[1, 1, 2, 3, 4, 3]\n",
    "    '''Delete objects duplicated and return\n",
    "    a list without duplicates.\n",
    "    \n",
    "    >>>uniqueL([1, 1, 2, 3, 4, 3])\n",
    "    [1, 2, 3, 4]\n",
    "    '''\n",
    "    uniques = []\n",
    "    for elem in listx:\n",
    "        if elem not in uniques:\n",
    "            uniques.append(elem)\n",
    "    return uniques\n",
    "\n",
    "\n",
    "def count_all_vowels(word):\n",
    "    '''This function count the number \n",
    "    of vowels in a word without duplicates.\n",
    "    It reveives a string as parameter. \n",
    "    Retunrs the number of vowels in\n",
    "    a word.\n",
    "    \n",
    "    >>>count_all_vowels('jonaathan')\n",
    "    3\n",
    "    '''\n",
    "    vowels_1 = 'aeiou'\n",
    "    vowels_word = []\n",
    "    for vowel in word:\n",
    "        if (vowel in vowels_1):\n",
    "            vowels_word.append(vowel)\n",
    "    #if the len(new_vowel_list) == 5 I can guarantee that word will have all vowels\n",
    "    new_vowel_list = unique_l(vowels_word)\n",
    "    long = len(new_vowel_list)\n",
    "    return long \n",
    "\n",
    "all_vowels = 0\n",
    "for a in words:\n",
    "    if count_all_vowels(a) == 5:\n",
    "        #print(a)\n",
    "        all_vowels += 1\n",
    "\n",
    "print('\\nThere are {} words with all vowels.'.format(all_vowels))"
   ]
  },
  {
   "cell_type": "code",
   "execution_count": 19,
   "metadata": {
    "executionInfo": {
     "elapsed": 65,
     "status": "aborted",
     "timestamp": 1641400402760,
     "user": {
      "displayName": "Jonathan Ramírez",
      "photoUrl": "https://lh3.googleusercontent.com/a-/AOh14GhvZRiHRf6YVTs7KC9kKQMXTTx1G8tKPeF4g7danQ=s64",
      "userId": "09469315614794190682"
     },
     "user_tz": 360
    },
    "id": "-Qj_oZZ2BaqG"
   },
   "outputs": [
    {
     "name": "stdout",
     "output_type": "stream",
     "text": [
      "There are more words with ten-letters(45872) than seven-letters(41998).\n"
     ]
    }
   ],
   "source": [
    "# (f) Whether there are more ten-letter words or seven-letter words.\n",
    "\n",
    "# To seven words\n",
    "count_seven = 0\n",
    "for seven in words:\n",
    "    if len(seven) == 7:\n",
    "        count_seven += 1\n",
    "\n",
    "# To ten words\n",
    "count_ten = 0\n",
    "for ten in words:\n",
    "    if len(ten) == 10:\n",
    "        count_ten += 1\n",
    "\n",
    "if count_seven > count_ten:\n",
    "    print('There are more words with seve-letters({}) than ten-letters({}).'.format(count_seven,count_ten))\n",
    "else:\n",
    "    print('There are more words with ten-letters({}) than seven-letters({}).'.format(count_ten,count_seven))"
   ]
  },
  {
   "cell_type": "code",
   "execution_count": 20,
   "metadata": {
    "executionInfo": {
     "elapsed": 66,
     "status": "aborted",
     "timestamp": 1641400402762,
     "user": {
      "displayName": "Jonathan Ramírez",
      "photoUrl": "https://lh3.googleusercontent.com/a-/AOh14GhvZRiHRf6YVTs7KC9kKQMXTTx1G8tKPeF4g7danQ=s64",
      "userId": "09469315614794190682"
     },
     "user_tz": 360
    },
    "id": "dZtyy6nMBaqH"
   },
   "outputs": [
    {
     "name": "stdout",
     "output_type": "stream",
     "text": [
      "The longest word in \"words\" is: \"dichlorodiphenyltrichloroethane\" with 31 letters.\n"
     ]
    }
   ],
   "source": [
    "# (g) The longest word in the list.\n",
    "def longest_word(list_word):\n",
    "    '''This function returns the longest word\n",
    "    in a list.\n",
    "    \n",
    "    >>>words = ['quantum', 'python', 'mechanics']\n",
    "    longest_word(words)\n",
    "    'mechanics'\n",
    "    '''\n",
    "    long_word = []\n",
    "\n",
    "    for word in list_word:\n",
    "        long_word.append((len(word), word))\n",
    "    long_word.sort()\n",
    "    return long_word[-1][1]\n",
    "\n",
    "print('The longest word in \"words\" is: \"{}\" with {} letters.'.format(longest_word(words), len(longest_word(words))))"
   ]
  },
  {
   "cell_type": "code",
   "execution_count": 21,
   "metadata": {
    "executionInfo": {
     "elapsed": 67,
     "status": "aborted",
     "timestamp": 1641400402763,
     "user": {
      "displayName": "Jonathan Ramírez",
      "photoUrl": "https://lh3.googleusercontent.com/a-/AOh14GhvZRiHRf6YVTs7KC9kKQMXTTx1G8tKPeF4g7danQ=s64",
      "userId": "09469315614794190682"
     },
     "user_tz": 360
    },
    "id": "jj7CvRWKBaqI"
   },
   "outputs": [
    {
     "data": {
      "text/plain": [
       "['a', 'aa', 'aaa', 'aba', 'abba', 'acca', 'ada', 'adda', 'addda', 'adinida']"
      ]
     },
     "execution_count": 21,
     "metadata": {},
     "output_type": "execute_result"
    }
   ],
   "source": [
    "# (h) All palindromes.\n",
    "def is_palindrome(word):\n",
    "    '''Boolean function, if the word entered \n",
    "    is a palindrome returns true\n",
    "    '''\n",
    "    return word == word[::-1]\n",
    "\n",
    "palim_list = []\n",
    "for palindromes in words:\n",
    "    if is_palindrome(palindromes) == True:\n",
    "        #print(palindromes)\n",
    "        palim_list.append(palindromes)\n",
    "        \n",
    "palim_list[:10]"
   ]
  },
  {
   "cell_type": "code",
   "execution_count": 22,
   "metadata": {
    "executionInfo": {
     "elapsed": 68,
     "status": "aborted",
     "timestamp": 1641400402766,
     "user": {
      "displayName": "Jonathan Ramírez",
      "photoUrl": "https://lh3.googleusercontent.com/a-/AOh14GhvZRiHRf6YVTs7KC9kKQMXTTx1G8tKPeF4g7danQ=s64",
      "userId": "09469315614794190682"
     },
     "user_tz": 360
    },
    "id": "TEQayTY4BaqL"
   },
   "outputs": [
    {
     "data": {
      "text/plain": [
       "(['aeq',\n",
       "  'antiq',\n",
       "  'aq',\n",
       "  'beqwete',\n",
       "  'buqsha',\n",
       "  'buqshas',\n",
       "  'colloq',\n",
       "  'cq',\n",
       "  'eq',\n",
       "  'eqpt'],\n",
       " 115)"
      ]
     },
     "execution_count": 22,
     "metadata": {},
     "output_type": "execute_result"
    }
   ],
   "source": [
    "# (j) All words that contain a \"q\" that isn’t followed by a \"u\".\n",
    "j_list = []\n",
    "for j in words:\n",
    "    while 'q' in j and 'qu' not in j:\n",
    "        #print(j)\n",
    "        j_list.append(j)\n",
    "        break     \n",
    "j_list[:10], len(j_list)"
   ]
  },
  {
   "cell_type": "code",
   "execution_count": 23,
   "metadata": {
    "executionInfo": {
     "elapsed": 70,
     "status": "aborted",
     "timestamp": 1641400402768,
     "user": {
      "displayName": "Jonathan Ramírez",
      "photoUrl": "https://lh3.googleusercontent.com/a-/AOh14GhvZRiHRf6YVTs7KC9kKQMXTTx1G8tKPeF4g7danQ=s64",
      "userId": "09469315614794190682"
     },
     "user_tz": 360
    },
    "id": "Ls5L3LnTBaqL"
   },
   "outputs": [
    {
     "data": {
      "text/plain": [
       "(['aburabozu',\n",
       "  'amazulu',\n",
       "  'arzun',\n",
       "  'azulejo',\n",
       "  'azulejos',\n",
       "  'azulene',\n",
       "  'azuline',\n",
       "  'azulite',\n",
       "  'azulmic',\n",
       "  'azumbre'],\n",
       " 131)"
      ]
     },
     "execution_count": 23,
     "metadata": {},
     "output_type": "execute_result"
    }
   ],
   "source": [
    "# (k) All words that contain \"zu\" anywhere in the word.\n",
    "k_list = []\n",
    "for k in words:\n",
    "    if 'zu' in k:\n",
    "        #print(k)\n",
    "        k_list.append(k)\n",
    "        \n",
    "k_list[:10], len(k_list)"
   ]
  },
  {
   "cell_type": "code",
   "execution_count": 24,
   "metadata": {
    "executionInfo": {
     "elapsed": 71,
     "status": "aborted",
     "timestamp": 1641400402770,
     "user": {
      "displayName": "Jonathan Ramírez",
      "photoUrl": "https://lh3.googleusercontent.com/a-/AOh14GhvZRiHRf6YVTs7KC9kKQMXTTx1G8tKPeF4g7danQ=s64",
      "userId": "09469315614794190682"
     },
     "user_tz": 360
    },
    "id": "m2EaoTMJBaqN"
   },
   "outputs": [
    {
     "data": {
      "text/plain": [
       "(['arzawa',\n",
       "  'berkowitz',\n",
       "  'bewizard',\n",
       "  'blowze',\n",
       "  'blowzed',\n",
       "  'blowzy',\n",
       "  'blowzier',\n",
       "  'blowziest',\n",
       "  'blowzily',\n",
       "  'blowziness'],\n",
       " 297)"
      ]
     },
     "execution_count": 24,
     "metadata": {},
     "output_type": "execute_result"
    }
   ],
   "source": [
    "# (l) All words that contain both a \"z\" and a \"w\".\n",
    "l_list = []\n",
    "for l in words:\n",
    "    if 'z' in l and 'w' in l:\n",
    "        #print(l)\n",
    "        l_list.append(l)\n",
    "        \n",
    "l_list[:10], len(l_list)"
   ]
  },
  {
   "cell_type": "code",
   "execution_count": 25,
   "metadata": {
    "executionInfo": {
     "elapsed": 73,
     "status": "aborted",
     "timestamp": 1641400402772,
     "user": {
      "displayName": "Jonathan Ramírez",
      "photoUrl": "https://lh3.googleusercontent.com/a-/AOh14GhvZRiHRf6YVTs7KC9kKQMXTTx1G8tKPeF4g7danQ=s64",
      "userId": "09469315614794190682"
     },
     "user_tz": 360
    },
    "id": "tK22TilXBaqO"
   },
   "outputs": [
    {
     "data": {
      "text/plain": [
       "(['abelia',\n",
       "  'abelian',\n",
       "  'abelicea',\n",
       "  'abelite',\n",
       "  'abepithymia',\n",
       "  'aberia',\n",
       "  'acedia',\n",
       "  'acediamin',\n",
       "  'acediamine',\n",
       "  'acedias'],\n",
       " 209)"
      ]
     },
     "execution_count": 25,
     "metadata": {},
     "output_type": "execute_result"
    }
   ],
   "source": [
    "# (m) All words whose first letter is \"a\", third letter is \"e\" and fifth letter is \"i\".\n",
    "m_list = []\n",
    "for m in range(len(words)):\n",
    "    if len(words[m]) >= 5:\n",
    "        if (words[m][0] == 'a') and (words[m][2] == 'e') and (words[m][4] == 'i'):\n",
    "            #print(words[m])\n",
    "            m_list.append(words[m])\n",
    "\n",
    "m_list[:10], len(m_list)"
   ]
  },
  {
   "cell_type": "code",
   "execution_count": 26,
   "metadata": {
    "executionInfo": {
     "elapsed": 76,
     "status": "aborted",
     "timestamp": 1641400402775,
     "user": {
      "displayName": "Jonathan Ramírez",
      "photoUrl": "https://lh3.googleusercontent.com/a-/AOh14GhvZRiHRf6YVTs7KC9kKQMXTTx1G8tKPeF4g7danQ=s64",
      "userId": "09469315614794190682"
     },
     "user_tz": 360
    },
    "id": "MMn-3helBaqP"
   },
   "outputs": [
    {
     "data": {
      "text/plain": [
       "(['aa', 'ab', 'ac', 'ad', 'ae', 'af', 'ag', 'ah', 'ai', 'ay'], 427)"
      ]
     },
     "execution_count": 26,
     "metadata": {},
     "output_type": "execute_result"
    }
   ],
   "source": [
    "# (n) All two-letter words.\n",
    "n_list = []\n",
    "for n in words:\n",
    "    if len(n) == 2:\n",
    "        #print(n)\n",
    "        n_list.append(n)\n",
    "        \n",
    "n_list[:10], len(n_list)"
   ]
  },
  {
   "cell_type": "code",
   "execution_count": 27,
   "metadata": {
    "executionInfo": {
     "elapsed": 80,
     "status": "aborted",
     "timestamp": 1641400402779,
     "user": {
      "displayName": "Jonathan Ramírez",
      "photoUrl": "https://lh3.googleusercontent.com/a-/AOh14GhvZRiHRf6YVTs7KC9kKQMXTTx1G8tKPeF4g7danQ=s64",
      "userId": "09469315614794190682"
     },
     "user_tz": 360
    },
    "id": "GEZYhRpxBaqQ"
   },
   "outputs": [
    {
     "data": {
      "text/plain": [
       "(['abba',\n",
       "  'acca',\n",
       "  'acta',\n",
       "  'adda',\n",
       "  'affa',\n",
       "  'agba',\n",
       "  'agha',\n",
       "  'agla',\n",
       "  'agma',\n",
       "  'agra'],\n",
       " 316)"
      ]
     },
     "execution_count": 27,
     "metadata": {},
     "output_type": "execute_result"
    }
   ],
   "source": [
    "# (o) All four-letter words that start and end with the same letter.\n",
    "o_list = []\n",
    "for o in words:\n",
    "    if len(o) == 4 and o[0] == o[-1]:\n",
    "        #print(o)\n",
    "        o_list.append(o)\n",
    "        \n",
    "o_list[:10], len(o_list)"
   ]
  },
  {
   "cell_type": "code",
   "execution_count": 28,
   "metadata": {
    "executionInfo": {
     "elapsed": 82,
     "status": "aborted",
     "timestamp": 1641400402782,
     "user": {
      "displayName": "Jonathan Ramírez",
      "photoUrl": "https://lh3.googleusercontent.com/a-/AOh14GhvZRiHRf6YVTs7KC9kKQMXTTx1G8tKPeF4g7danQ=s64",
      "userId": "09469315614794190682"
     },
     "user_tz": 360
    },
    "id": "b2fwTdC0BaqR"
   },
   "outputs": [
    {
     "data": {
      "text/plain": [
       "(['aceanthrenequinone',\n",
       "  'acetoacetanilide',\n",
       "  'achromobacterieae',\n",
       "  'adenocarcinomatous',\n",
       "  'adenoliomyofibroma',\n",
       "  'adiadochokinesia',\n",
       "  'adiadokokinesia',\n",
       "  'adrenocorticosteroid',\n",
       "  'aecioteliospore',\n",
       "  'aerobacteriological'],\n",
       " 594)"
      ]
     },
     "execution_count": 28,
     "metadata": {},
     "output_type": "execute_result"
    }
   ],
   "source": [
    "# (p) All words that contain at least nine vowels.\n",
    "nine_vowels = 0\n",
    "p_list = []\n",
    "for p in words:\n",
    "    if count_vowels(p) >= 9:\n",
    "        #print(p)\n",
    "        p_list.append(p)\n",
    "        nine_vowels += 1\n",
    "        \n",
    "p_list[:10], len(p_list)"
   ]
  },
  {
   "cell_type": "code",
   "execution_count": 29,
   "metadata": {
    "executionInfo": {
     "elapsed": 83,
     "status": "aborted",
     "timestamp": 1641400402783,
     "user": {
      "displayName": "Jonathan Ramírez",
      "photoUrl": "https://lh3.googleusercontent.com/a-/AOh14GhvZRiHRf6YVTs7KC9kKQMXTTx1G8tKPeF4g7danQ=s64",
      "userId": "09469315614794190682"
     },
     "user_tz": 360
    },
    "id": "V2KbVka6BaqR"
   },
   "outputs": [
    {
     "data": {
      "text/plain": [
       "(['acidifiable',\n",
       "  'backfield',\n",
       "  'backfields',\n",
       "  'backfilled',\n",
       "  'backfired',\n",
       "  'backfriend',\n",
       "  'baldfaced',\n",
       "  'barefaced',\n",
       "  'barefacedly',\n",
       "  'barefacedness'],\n",
       " 66)"
      ]
     },
     "execution_count": 29,
     "metadata": {},
     "output_type": "execute_result"
    }
   ],
   "source": [
    "# (q) All words that contain each of the letters _a, b, c, d, e,_ and _f_ in any order. \n",
    "# There may be other letters in the word. Two examples are backfield and feedback.\n",
    "def count_abcdef(word):\n",
    "    '''This function count the number \n",
    "    of 'abcdef' in a word. It receives a string \n",
    "    as parameter. Retunrs the number of'abcdef' in\n",
    "    a word.\n",
    "    \n",
    "    >>>count_abcdef('jonathan')\n",
    "    3\n",
    "    '''\n",
    "    vowels_abcdef = 'abcdef'\n",
    "    vowels_word = []\n",
    "    for vowel in word:\n",
    "        if (vowel in vowels_abcdef):\n",
    "            vowels_word.append(vowel)\n",
    "    #if the len(new_vowel_list) == 6 I can guarantee that word will have all 'abcdef'\n",
    "    new_vowel_list = unique_l(vowels_word)\n",
    "    long = len(new_vowel_list)\n",
    "    return long\n",
    "\n",
    "abcdef = 0\n",
    "q_list = []\n",
    "for q in words:\n",
    "    if count_abcdef(q) == 6:\n",
    "        #print(q)\n",
    "        q_list.append(q)\n",
    "        abcdef += 1\n",
    "\n",
    "q_list[:10], len(q_list)"
   ]
  },
  {
   "cell_type": "code",
   "execution_count": 30,
   "metadata": {
    "executionInfo": {
     "elapsed": 84,
     "status": "aborted",
     "timestamp": 1641400402785,
     "user": {
      "displayName": "Jonathan Ramírez",
      "photoUrl": "https://lh3.googleusercontent.com/a-/AOh14GhvZRiHRf6YVTs7KC9kKQMXTTx1G8tKPeF4g7danQ=s64",
      "userId": "09469315614794190682"
     },
     "user_tz": 360
    },
    "id": "8CQHZ8zKBaqS"
   },
   "outputs": [
    {
     "data": {
      "text/plain": [
       "(['aahs',\n",
       "  'aals',\n",
       "  'aani',\n",
       "  'aaru',\n",
       "  'abac',\n",
       "  'abaca',\n",
       "  'abada',\n",
       "  'abay',\n",
       "  'abaka',\n",
       "  'abama'],\n",
       " 8469)"
      ]
     },
     "execution_count": 30,
     "metadata": {},
     "output_type": "execute_result"
    }
   ],
   "source": [
    "# (r) All words whose first four and last four letters are the same.\n",
    "total_words = []\n",
    "list_r = []\n",
    "list_r_1 = []\n",
    "list_r_2 = []\n",
    "\n",
    "for r in words:\n",
    "    if len(r) >= 4:\n",
    "        list_r_1 = list(r[:4])\n",
    "        list_r_2 = list(r[-4:])\n",
    "        list_r_1.sort()\n",
    "        list_r_2.sort()\n",
    "        \n",
    "        if list_r_1 == list_r_2:\n",
    "            total_words.append(r)\n",
    "total_words[:10], len(total_words)"
   ]
  },
  {
   "cell_type": "code",
   "execution_count": 31,
   "metadata": {
    "executionInfo": {
     "elapsed": 735,
     "status": "aborted",
     "timestamp": 1641400403436,
     "user": {
      "displayName": "Jonathan Ramírez",
      "photoUrl": "https://lh3.googleusercontent.com/a-/AOh14GhvZRiHRf6YVTs7KC9kKQMXTTx1G8tKPeF4g7danQ=s64",
      "userId": "09469315614794190682"
     },
     "user_tz": 360
    },
    "id": "d7Pmh-lBBaqT"
   },
   "outputs": [
    {
     "data": {
      "text/plain": [
       "[(6, 'pericardiomediastinitis'),\n",
       " (6, 'minimifidianism'),\n",
       " (6, 'intelligibilities'),\n",
       " (6, 'indivisibility'),\n",
       " (6, 'indistinguishability'),\n",
       " (6, 'impossibilification'),\n",
       " (6, 'divisibilities')]"
      ]
     },
     "execution_count": 31,
     "metadata": {},
     "output_type": "execute_result"
    }
   ],
   "source": [
    "# (s) The word that has the most 'i’s'.\n",
    "num_i = []\n",
    "for s in words:\n",
    "    if 'i' in s:\n",
    "        num_i.append((s.count('i'), s))\n",
    "\n",
    "num_i.sort()\n",
    "num_i.reverse()\n",
    "max_len = max(num_i)\n",
    "words_i = []\n",
    "\n",
    "for s_i in range(len(num_i)):\n",
    "    if num_i[s_i][0] == max_len[0]:\n",
    "        words_i.append(num_i[s_i])\n",
    "\n",
    "words_i "
   ]
  }
 ],
 "metadata": {
  "accelerator": "GPU",
  "colab": {
   "name": "Exam of the first module Calificado.ipynb",
   "provenance": []
  },
  "kernelspec": {
   "display_name": "Python 3",
   "language": "python",
   "name": "python3"
  },
  "language_info": {
   "codemirror_mode": {
    "name": "ipython",
    "version": 3
   },
   "file_extension": ".py",
   "mimetype": "text/x-python",
   "name": "python",
   "nbconvert_exporter": "python",
   "pygments_lexer": "ipython3",
   "version": "3.8.13"
  },
  "toc": {
   "base_numbering": 1,
   "nav_menu": {},
   "number_sections": true,
   "sideBar": true,
   "skip_h1_title": false,
   "title_cell": "Table of Contents",
   "title_sidebar": "Contents",
   "toc_cell": false,
   "toc_position": {},
   "toc_section_display": true,
   "toc_window_display": false
  },
  "varInspector": {
   "cols": {
    "lenName": 16,
    "lenType": 16,
    "lenVar": 40
   },
   "kernels_config": {
    "python": {
     "delete_cmd_postfix": "",
     "delete_cmd_prefix": "del ",
     "library": "var_list.py",
     "varRefreshCmd": "print(var_dic_list())"
    },
    "r": {
     "delete_cmd_postfix": ") ",
     "delete_cmd_prefix": "rm(",
     "library": "var_list.r",
     "varRefreshCmd": "cat(var_dic_list()) "
    }
   },
   "types_to_exclude": [
    "module",
    "function",
    "builtin_function_or_method",
    "instance",
    "_Feature"
   ],
   "window_display": false
  }
 },
 "nbformat": 4,
 "nbformat_minor": 4
}
